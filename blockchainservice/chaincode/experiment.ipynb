{
 "cells": [
  {
   "cell_type": "code",
   "execution_count": 10,
   "metadata": {},
   "outputs": [
    {
     "name": "stderr",
     "output_type": "stream",
     "text": [
      "Init client with profile=./connection.json\n",
      "No key path ('client', 'credentialStore', 'path') exists in net info\n",
      "No kv store path exists in profile ./connection.json\n",
      "create org with name=Org1MSP\n",
      "create ca with name=Org1CA\n",
      "create ca with name=OrdererCA\n",
      "Import orderers = dict_keys(['Orderer'])\n",
      "Import peers = dict_keys(['Org1Peer1'])\n"
     ]
    },
    {
     "name": "stdout",
     "output_type": "stream",
     "text": [
      "'grpcOptions'\n",
      "{'Org1MSP': <hfc.fabric.organization.Organization object at 0x7f151a95c220>}\n",
      "{'Org1Peer1': <hfc.fabric.peer.Peer object at 0x7f151a14b970>}\n",
      "{'Orderer': <hfc.fabric.orderer.Orderer object at 0x7f151a86ee20>}\n",
      "{'Org1CA': <hfc.fabric.certificateAuthority.certificateAuthority object at 0x7f151a14b910>, 'OrdererCA': <hfc.fabric.certificateAuthority.certificateAuthority object at 0x7f151a14b400>}\n"
     ]
    }
   ],
   "source": [
    "from hfc.fabric import Client\n",
    "\n",
    "cli = Client(net_profile=\"./connection.json\")\n",
    "# print(cli)\n",
    "print(cli.organizations)  # orgs in the network\n",
    "print(cli.peers)  # peers in the network\n",
    "print(cli.orderers)  # orderers in the network\n",
    "print(cli.CAs)  # ca nodes in the network"
   ]
  },
  {
   "cell_type": "code",
   "execution_count": 16,
   "metadata": {},
   "outputs": [
    {
     "name": "stdout",
     "output_type": "stream",
     "text": [
      "None\n"
     ]
    }
   ],
   "source": [
    "org1_admin = cli.get_user(org_name='Org1MSP', name='org1Admin') # User instance with the Org1 admin's certs\n",
    "org2_admin = cli.get_user(org_name='org2.example.com', name='Admin') # User instance with the Org2 admin's certs\n",
    "orderer_admin = cli.get_user(org_name='orderer.example.com', name='Admin') # User instance with the orderer's certs\n",
    "\n",
    "print(org1_admin)"
   ]
  }
 ],
 "metadata": {
  "interpreter": {
   "hash": "916dbcbb3f70747c44a77c7bcd40155683ae19c65e1c03b4aa3499c5328201f1"
  },
  "kernelspec": {
   "display_name": "Python 3.8.10 64-bit",
   "name": "python3"
  },
  "language_info": {
   "codemirror_mode": {
    "name": "ipython",
    "version": 3
   },
   "file_extension": ".py",
   "mimetype": "text/x-python",
   "name": "python",
   "nbconvert_exporter": "python",
   "pygments_lexer": "ipython3",
   "version": "3.8.10"
  },
  "orig_nbformat": 4
 },
 "nbformat": 4,
 "nbformat_minor": 2
}